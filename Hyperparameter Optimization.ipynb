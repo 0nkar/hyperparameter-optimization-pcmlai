{
 "cells": [
  {
   "cell_type": "markdown",
   "metadata": {},
   "source": [
    "# Introduction: Hyperparameter Optimization\n",
    "\n",
    "In this notebook we will explore several options for hyperparameter optimization of a machine learning algorithm. We will start with some of the basic methods such as random search, and then proceed to more sophisticated methods using Guassian Processes."
   ]
  },
  {
   "cell_type": "code",
   "execution_count": 1,
   "metadata": {},
   "outputs": [],
   "source": [
    "import hyperopt as hyp\n",
    "from hyperopt import hp\n",
    "import btb\n",
    "\n",
    "from skopt.space import Real, Integer"
   ]
  },
  {
   "cell_type": "code",
   "execution_count": 2,
   "metadata": {},
   "outputs": [],
   "source": [
    "import pandas as pd\n",
    "import numpy as np\n",
    "\n",
    "import lightgbm as lgb\n",
    "\n",
    "from sklearn.model_selection import RandomizedSearchCV, KFold"
   ]
  },
  {
   "cell_type": "code",
   "execution_count": 3,
   "metadata": {},
   "outputs": [],
   "source": [
    "import random"
   ]
  },
  {
   "cell_type": "code",
   "execution_count": 4,
   "metadata": {},
   "outputs": [],
   "source": [
    "model = lgb.LGBMClassifier(objective = 'binary', n_jobs = -1, boosting_type='goss', colsample_bytree=0.8)"
   ]
  },
  {
   "cell_type": "code",
   "execution_count": 5,
   "metadata": {},
   "outputs": [],
   "source": [
    "train = pd.read_csv('../input/application_train.csv')\n",
    "test = pd.read_csv('../input/application_test.csv')\n",
    "labels = train['TARGET']\n",
    "features, test_features = pd.get_dummies(train).align(pd.get_dummies(test), axis = 1, join = 'inner')\n",
    "\n",
    "features = np.array(features)\n",
    "labels = np.array(labels.astype(np.int32)).reshape((-1,))"
   ]
  },
  {
   "cell_type": "markdown",
   "metadata": {},
   "source": [
    "# Random Search by Hand\n",
    "\n",
    "The first method we can implement is simply random search. Each iteration, choose a random set of model hyperparameters from a search space. Empirically, random search is very effective, returning nearly as good results as grid search with a significant reduction in time spent searching. \n",
    "\n",
    "Random search can be implement in the Scikit-Learn library with the LightGBM Sklearn API. However, this does not support training with early stopping, which is the most effective method for determining the best number of iterations to use. Therefore, we will implement random search ourselves with a defined parameter grid, and using Early Stopping."
   ]
  },
  {
   "cell_type": "code",
   "execution_count": 6,
   "metadata": {},
   "outputs": [],
   "source": [
    "features = features[:10000]\n",
    "labels = labels[:10000]"
   ]
  },
  {
   "cell_type": "code",
   "execution_count": 7,
   "metadata": {},
   "outputs": [
    {
     "data": {
      "text/plain": [
       "LGBMClassifier(boosting_type='gbdt', class_weight=None, colsample_bytree=1.0,\n",
       "        learning_rate=0.1, max_depth=-1, min_child_samples=20,\n",
       "        min_child_weight=0.001, min_split_gain=0.0, n_estimators=100,\n",
       "        n_jobs=-1, num_leaves=31, objective=None, random_state=None,\n",
       "        reg_alpha=0.0, reg_lambda=0.0, silent=True, subsample=1.0,\n",
       "        subsample_for_bin=200000, subsample_freq=1)"
      ]
     },
     "execution_count": 7,
     "metadata": {},
     "output_type": "execute_result"
    }
   ],
   "source": [
    "lgb.LGBMClassifier()"
   ]
  },
  {
   "cell_type": "code",
   "execution_count": 8,
   "metadata": {},
   "outputs": [],
   "source": [
    "param_grid = {\n",
    "    'class_weight': [None, 'balanced'],\n",
    "    'boosting_type': ['gbdt', 'goss', 'dart'],\n",
    "    'num_leaves': list(range(30, 151)),\n",
    "    'learning_rate': list(np.logspace(np.log(0.01), np.log(0.2), base = np.exp(1), num = 100)),\n",
    "    'subsample_for_bin': list(range(20000, 300000, 20000)),\n",
    "    'min_child_samples': list(range(20, 500, 5)),\n",
    "    'reg_alpha': list(np.linspace(0, 1)),\n",
    "    'reg_lambda': list(np.linspace(0, 1)),\n",
    "    'colsample_bytree': list(np.linspace(0.6, 1, 10))\n",
    "}\n",
    "\n",
    "subsample_dist = list(np.linspace(0.5, 1, 100))"
   ]
  },
  {
   "cell_type": "code",
   "execution_count": 9,
   "metadata": {},
   "outputs": [],
   "source": [
    "evals = 5\n",
    "\n",
    "# Dataframe to hold cv results\n",
    "results = pd.DataFrame(columns = ['params', 'train_scores', 'train', 'valid_scores', 'valid', 'estimators'],\n",
    "                       index = list(range(evals)))"
   ]
  },
  {
   "cell_type": "code",
   "execution_count": 10,
   "metadata": {},
   "outputs": [
    {
     "name": "stdout",
     "output_type": "stream",
     "text": [
      "Training until validation scores don't improve for 200 rounds.\n",
      "[200]\ttrain's auc: 0.993337\tvalid's auc: 0.752765\n",
      "Early stopping, best iteration is:\n",
      "[23]\ttrain's auc: 0.845289\tvalid's auc: 0.79571\n",
      "Training until validation scores don't improve for 200 rounds.\n",
      "[200]\ttrain's auc: 0.992936\tvalid's auc: 0.692569\n",
      "Early stopping, best iteration is:\n",
      "[95]\ttrain's auc: 0.960178\tvalid's auc: 0.719902\n",
      "Training until validation scores don't improve for 200 rounds.\n",
      "[200]\ttrain's auc: 0.994638\tvalid's auc: 0.742551\n",
      "Early stopping, best iteration is:\n",
      "[26]\ttrain's auc: 0.867585\tvalid's auc: 0.764146\n",
      "Training until validation scores don't improve for 200 rounds.\n",
      "[200]\ttrain's auc: 0.994078\tvalid's auc: 0.745663\n",
      "Early stopping, best iteration is:\n",
      "[41]\ttrain's auc: 0.908086\tvalid's auc: 0.762621\n",
      "Training until validation scores don't improve for 200 rounds.\n",
      "[200]\ttrain's auc: 0.99347\tvalid's auc: 0.748834\n",
      "[400]\ttrain's auc: 0.999983\tvalid's auc: 0.753835\n",
      "Early stopping, best iteration is:\n",
      "[278]\ttrain's auc: 0.999315\tvalid's auc: 0.759887\n",
      "Training until validation scores don't improve for 200 rounds.\n",
      "[200]\ttrain's auc: 0.962108\tvalid's auc: 0.791062\n",
      "Early stopping, best iteration is:\n",
      "[162]\ttrain's auc: 0.953404\tvalid's auc: 0.79265\n",
      "Training until validation scores don't improve for 200 rounds.\n",
      "[200]\ttrain's auc: 0.962081\tvalid's auc: 0.70926\n",
      "[400]\ttrain's auc: 0.991048\tvalid's auc: 0.706754\n",
      "Early stopping, best iteration is:\n",
      "[214]\ttrain's auc: 0.965484\tvalid's auc: 0.710966\n",
      "Training until validation scores don't improve for 200 rounds.\n",
      "[200]\ttrain's auc: 0.96067\tvalid's auc: 0.748096\n",
      "[400]\ttrain's auc: 0.989659\tvalid's auc: 0.753433\n",
      "Early stopping, best iteration is:\n",
      "[378]\ttrain's auc: 0.987751\tvalid's auc: 0.753951\n",
      "Training until validation scores don't improve for 200 rounds.\n",
      "[200]\ttrain's auc: 0.960277\tvalid's auc: 0.743816\n",
      "[400]\ttrain's auc: 0.989671\tvalid's auc: 0.753764\n",
      "[600]\ttrain's auc: 0.998306\tvalid's auc: 0.751157\n",
      "Early stopping, best iteration is:\n",
      "[494]\ttrain's auc: 0.995277\tvalid's auc: 0.754422\n",
      "Training until validation scores don't improve for 200 rounds.\n",
      "[200]\ttrain's auc: 0.960376\tvalid's auc: 0.753455\n",
      "[400]\ttrain's auc: 0.989972\tvalid's auc: 0.75828\n",
      "Early stopping, best iteration is:\n",
      "[367]\ttrain's auc: 0.98718\tvalid's auc: 0.759047\n",
      "Training until validation scores don't improve for 200 rounds.\n",
      "[200]\ttrain's auc: 0.985519\tvalid's auc: 0.784671\n",
      "[400]\ttrain's auc: 0.999909\tvalid's auc: 0.770663\n",
      "Early stopping, best iteration is:\n",
      "[215]\ttrain's auc: 0.988088\tvalid's auc: 0.784865\n",
      "Training until validation scores don't improve for 200 rounds.\n",
      "[200]\ttrain's auc: 0.984\tvalid's auc: 0.716008\n",
      "Early stopping, best iteration is:\n",
      "[166]\ttrain's auc: 0.975332\tvalid's auc: 0.718524\n",
      "Training until validation scores don't improve for 200 rounds.\n",
      "[200]\ttrain's auc: 0.985633\tvalid's auc: 0.760232\n",
      "Early stopping, best iteration is:\n",
      "[140]\ttrain's auc: 0.973635\tvalid's auc: 0.763912\n",
      "Training until validation scores don't improve for 200 rounds.\n",
      "[200]\ttrain's auc: 0.984636\tvalid's auc: 0.75305\n",
      "[400]\ttrain's auc: 0.99991\tvalid's auc: 0.755639\n",
      "[600]\ttrain's auc: 1\tvalid's auc: 0.75529\n",
      "Early stopping, best iteration is:\n",
      "[432]\ttrain's auc: 0.999974\tvalid's auc: 0.757661\n",
      "Training until validation scores don't improve for 200 rounds.\n",
      "[200]\ttrain's auc: 0.984053\tvalid's auc: 0.746685\n",
      "[400]\ttrain's auc: 0.999963\tvalid's auc: 0.755612\n",
      "Early stopping, best iteration is:\n",
      "[365]\ttrain's auc: 0.999706\tvalid's auc: 0.758335\n",
      "Training until validation scores don't improve for 200 rounds.\n",
      "[200]\ttrain's auc: 0.923391\tvalid's auc: 0.793799\n",
      "Early stopping, best iteration is:\n",
      "[171]\ttrain's auc: 0.913889\tvalid's auc: 0.796423\n",
      "Training until validation scores don't improve for 200 rounds.\n",
      "[200]\ttrain's auc: 0.923267\tvalid's auc: 0.710044\n",
      "Early stopping, best iteration is:\n",
      "[14]\ttrain's auc: 0.833393\tvalid's auc: 0.715275\n",
      "Training until validation scores don't improve for 200 rounds.\n",
      "[200]\ttrain's auc: 0.922304\tvalid's auc: 0.755704\n",
      "[400]\ttrain's auc: 0.965781\tvalid's auc: 0.755446\n",
      "Early stopping, best iteration is:\n",
      "[360]\ttrain's auc: 0.959058\tvalid's auc: 0.75647\n",
      "Training until validation scores don't improve for 200 rounds.\n",
      "[200]\ttrain's auc: 0.921975\tvalid's auc: 0.754471\n",
      "[400]\ttrain's auc: 0.965197\tvalid's auc: 0.758885\n",
      "Early stopping, best iteration is:\n",
      "[258]\ttrain's auc: 0.940084\tvalid's auc: 0.761369\n",
      "Training until validation scores don't improve for 200 rounds.\n",
      "[200]\ttrain's auc: 0.920434\tvalid's auc: 0.751115\n",
      "[400]\ttrain's auc: 0.964076\tvalid's auc: 0.75687\n",
      "Early stopping, best iteration is:\n",
      "[347]\ttrain's auc: 0.954479\tvalid's auc: 0.758453\n",
      "Training until validation scores don't improve for 200 rounds.\n",
      "[200]\ttrain's auc: 0.844046\tvalid's auc: 0.782783\n",
      "[400]\ttrain's auc: 0.923742\tvalid's auc: 0.780578\n",
      "[600]\ttrain's auc: 0.977439\tvalid's auc: 0.78975\n",
      "[800]\ttrain's auc: 0.99498\tvalid's auc: 0.783961\n",
      "Early stopping, best iteration is:\n",
      "[613]\ttrain's auc: 0.979711\tvalid's auc: 0.790791\n",
      "Training until validation scores don't improve for 200 rounds.\n",
      "[200]\ttrain's auc: 0.849612\tvalid's auc: 0.716307\n",
      "Early stopping, best iteration is:\n",
      "[182]\ttrain's auc: 0.842296\tvalid's auc: 0.717829\n",
      "Training until validation scores don't improve for 200 rounds.\n",
      "[200]\ttrain's auc: 0.847188\tvalid's auc: 0.761999\n",
      "[400]\ttrain's auc: 0.925745\tvalid's auc: 0.767283\n",
      "Early stopping, best iteration is:\n",
      "[347]\ttrain's auc: 0.904074\tvalid's auc: 0.769654\n",
      "Training until validation scores don't improve for 200 rounds.\n",
      "[200]\ttrain's auc: 0.858694\tvalid's auc: 0.751024\n",
      "Early stopping, best iteration is:\n",
      "[94]\ttrain's auc: 0.820734\tvalid's auc: 0.75522\n",
      "Training until validation scores don't improve for 200 rounds.\n",
      "[200]\ttrain's auc: 0.851659\tvalid's auc: 0.731698\n",
      "[400]\ttrain's auc: 0.922403\tvalid's auc: 0.742237\n",
      "[600]\ttrain's auc: 0.974618\tvalid's auc: 0.743042\n",
      "[800]\ttrain's auc: 0.994344\tvalid's auc: 0.746813\n",
      "Early stopping, best iteration is:\n",
      "[697]\ttrain's auc: 0.987237\tvalid's auc: 0.74825\n"
     ]
    }
   ],
   "source": [
    "# Iterate through the specified number of evaluations\n",
    "for i in range(evals):\n",
    "    \n",
    "    k_fold = KFold(n_splits = 5)\n",
    "    \n",
    "    # Randomly sample parameters for gbm\n",
    "    params = {key: random.sample(value, 1)[0] for key, value in param_grid.items()}\n",
    "    \n",
    "    \n",
    "    if params['boosting_type'] == 'goss':\n",
    "        # Cannot subsample with goss\n",
    "        params['subsample'] = 1.0\n",
    "    else:\n",
    "        # Subsample supported for gdbt and dart\n",
    "        params['subsample'] = random.sample(subsample_dist, 1)[0]\n",
    "        \n",
    "        \n",
    "    # Create the model with the parameters\n",
    "    model = lgb.LGBMClassifier(class_weight = params['class_weight'], boosting_type = params['boosting_type'], \n",
    "                               num_leaves = params['num_leaves'], learning_rate = params['learning_rate'], \n",
    "                               subsample_for_bin = params['subsample_for_bin'], min_child_samples = params['min_child_samples'], \n",
    "                               reg_alpha = params['reg_alpha'], reg_lambda = params['reg_lambda'], \n",
    "                               colsample_by_tree = params['colsample_bytree'], subsample = params['subsample'], \n",
    "                               n_estimators = 10000, n_jobs = -1, objective = 'binary')\n",
    "    \n",
    "    # Empty lists for records\n",
    "    valid_scores = []\n",
    "    train_scores = []\n",
    "    number_estimators = []\n",
    "    \n",
    "    # Split the data\n",
    "    for (train_indices, valid_indices) in k_fold.split(features):\n",
    "        \n",
    "        # Training data and validation set\n",
    "        train_features, train_labels = features[train_indices], labels[train_indices]\n",
    "        valid_features, valid_labels = features[valid_indices], labels[valid_indices]\n",
    "        \n",
    "        # Fit the model using early stopping\n",
    "        model.fit(train_features, train_labels, eval_set = [(train_features, train_labels), (valid_features, valid_labels)],\n",
    "                  eval_metric = 'auc', eval_names = ['train', 'valid'], early_stopping_rounds = 200, verbose = 200)\n",
    "        \n",
    "        \n",
    "        valid_scores.append(model.best_score_['valid']['auc'])\n",
    "        train_scores.append(model.best_score_['train']['auc'])\n",
    "        number_estimators.append(model.best_iteration_)\n",
    "        \n",
    "    # Average the scores\n",
    "    valid = np.mean(valid_scores)\n",
    "    train = np.mean(train_scores)\n",
    "    estimators = np.mean(number_estimators)\n",
    "    \n",
    "    # Add results to next row in dataframe\n",
    "    results.loc[i, :] = [params, train_scores, train, valid_scores, valid, estimators]"
   ]
  },
  {
   "cell_type": "code",
   "execution_count": 11,
   "metadata": {},
   "outputs": [],
   "source": [
    "results = results.sort_values('valid', ascending = False)"
   ]
  },
  {
   "cell_type": "code",
   "execution_count": 12,
   "metadata": {},
   "outputs": [
    {
     "data": {
      "text/plain": [
       "{'class_weight': None,\n",
       " 'boosting_type': 'dart',\n",
       " 'num_leaves': 43,\n",
       " 'learning_rate': 0.15699877313755697,\n",
       " 'subsample_for_bin': 160000,\n",
       " 'min_child_samples': 115,\n",
       " 'reg_alpha': 0.8571428571428571,\n",
       " 'reg_lambda': 0.7142857142857142,\n",
       " 'colsample_bytree': 0.8222222222222222,\n",
       " 'subsample': 0.7070707070707071}"
      ]
     },
     "execution_count": 12,
     "metadata": {},
     "output_type": "execute_result"
    }
   ],
   "source": [
    "results.iloc[0, 0]"
   ]
  },
  {
   "cell_type": "markdown",
   "metadata": {},
   "source": [
    "## Bayesian Hyperparameter Optimization using Hyperopt"
   ]
  },
  {
   "cell_type": "code",
   "execution_count": 13,
   "metadata": {},
   "outputs": [],
   "source": [
    "from hyperopt import hp, fmin, tpe, STATUS_OK, Trials\n",
    "from hyperopt.pyll.stochastic import sample"
   ]
  },
  {
   "cell_type": "code",
   "execution_count": 14,
   "metadata": {},
   "outputs": [],
   "source": [
    "import matplotlib.pyplot as plt\n",
    "import seaborn as sns"
   ]
  },
  {
   "cell_type": "code",
   "execution_count": 15,
   "metadata": {},
   "outputs": [
    {
     "data": {
      "image/png": "[encoded data removed]",
      "text/plain": [
       "<Figure size 432x288 with 1 Axes>"
      ]
     },
     "metadata": {},
     "output_type": "display_data"
    }
   ],
   "source": [
    "learning_rate = {'learning_rate': hp.loguniform('learning_rate', np.log(0.01), np.log(0.2))}\n",
    "learning_rate_dist = []\n",
    "\n",
    "for _ in range(10000):\n",
    "    learning_rate_dist.append(sample(learning_rate)['learning_rate'])\n",
    "    \n",
    "plt.hist(learning_rate_dist, bins = 10, edgecolor = 'k');\n",
    "plt.title('Learning Rate Distribution');"
   ]
  },
  {
   "cell_type": "code",
   "execution_count": 16,
   "metadata": {},
   "outputs": [
    {
     "data": {
      "image/png": "[encoded data removed]",
      "text/plain": [
       "<Figure size 432x288 with 1 Axes>"
      ]
     },
     "metadata": {},
     "output_type": "display_data"
    }
   ],
   "source": [
    "num_leaves = {'num_leaves': hp.quniform('num_leaves', 30, 150, 1)}\n",
    "num_leaves_dist = []\n",
    "\n",
    "for _ in range(10000):\n",
    "    num_leaves_dist.append(sample(num_leaves)['num_leaves'])\n",
    "    \n",
    "plt.hist(num_leaves_dist, bins = 10, edgecolor = 'k');\n",
    "plt.title('Number of Leaves Distribution');"
   ]
  },
  {
   "cell_type": "code",
   "execution_count": 17,
   "metadata": {},
   "outputs": [],
   "source": [
    "def objective(params):\n",
    "    k_fold = KFold(n_splits = 5)\n",
    "    \n",
    "    # Retrieve the subsample if present otherwise set to 1.0\n",
    "    subsample = params['boosting_type'].get('subsample', 1.0)\n",
    "    \n",
    "    # Extract the boosting type\n",
    "    params['boosting_type'] = params['boosting_type']['boosting_type']\n",
    "    params['subsample'] = subsample\n",
    "    \n",
    "    # Make sure parameters that need to be integers are integers\n",
    "    for parameter_name in ['num_leaves', 'subsample_for_bin', 'min_child_samples']:\n",
    "        params[parameter_name] = int(params[parameter_name])\n",
    "    \n",
    "    model = lgb.LGBMClassifier(n_estimators = 10000, objective = 'binary', n_jobs = -1, **params)\n",
    "    \n",
    "    valid_scores = []\n",
    "    train_scores = []\n",
    "    number_estimators = []\n",
    "    \n",
    "    for (train_indices, valid_indices) in k_fold.split(features):\n",
    "        \n",
    "        # Training data and validation set\n",
    "        train_features, train_labels = features[train_indices], labels[train_indices]\n",
    "        valid_features, valid_labels = features[valid_indices], labels[valid_indices]\n",
    "        \n",
    "        # Fit the model using early stopping\n",
    "        model.fit(train_features, train_labels, eval_set = [(train_features, train_labels), (valid_features, valid_labels)],\n",
    "                  eval_metric = 'auc', eval_names = ['train', 'valid'], early_stopping_rounds = 200, verbose = 200)\n",
    "    \n",
    "        valid_scores.append(model.best_score_['valid']['auc'])\n",
    "        train_scores.append(model.best_score_['train']['auc'])\n",
    "        number_estimators.append(model.best_iteration_)\n",
    "        \n",
    "    # fmin needs a loss to minimize\n",
    "    valid = -1 * np.mean(valid_scores)\n",
    "    train = -1 * np.mean(train_scores)\n",
    "    \n",
    "    # average number of estimators\n",
    "    estimators = np.mean(number_estimators)\n",
    "    \n",
    "    # Dictionary with information for evaluation\n",
    "    return {'loss': valid, 'train': train, 'estimators': estimators, 'status': STATUS_OK, 'params': params}"
   ]
  },
  {
   "cell_type": "code",
   "execution_count": 18,
   "metadata": {},
   "outputs": [],
   "source": [
    "# Define the search space\n",
    "space = {\n",
    "    'class_weight': hp.choice('class_weight', [None, 'balanced']),\n",
    "    'boosting_type': hp.choice('boosting_type', [{'boosting_type': 'gbdt', 'subsample': hp.uniform('gdbt_subsample', 0.5, 1)}, \n",
    "                                                 {'boosting_type': 'dart', 'subsample': hp.uniform('dart_subsample', 0.5, 1)},\n",
    "                                                 {'boosting_type': 'goss'}]),\n",
    "    'num_leaves': hp.quniform('num_leaves', 30, 150, 1),\n",
    "    'learning_rate': hp.loguniform('learning_rate', np.log(0.01), np.log(0.2)),\n",
    "    'subsample_for_bin': hp.quniform('subsample_for_bin', 20000, 300000, 20000),\n",
    "    'min_child_samples': hp.quniform('min_child_samples', 20, 500, 5),\n",
    "    'reg_alpha': hp.uniform('reg_alpha', 0.0, 1.0),\n",
    "    'reg_lambda': hp.uniform('reg_lambda', 0.0, 1.0),\n",
    "    'colsample_bytree': hp.uniform('colsample_by_tree', 0.6, 1.0)\n",
    "}"
   ]
  },
  {
   "cell_type": "code",
   "execution_count": 19,
   "metadata": {},
   "outputs": [],
   "source": [
    "boosting_type = {'boosting_type': hp.choice('boosting_type', [{'boosting_type': 'gbdt', 'subsample': hp.uniform('subsample', 0.5, 1)}, \n",
    "                                                 {'boosting_type': 'dart', 'subsample': hp.uniform('subsample', 0.5, 1)},\n",
    "                                                 {'boosting_type': 'goss'}])}"
   ]
  },
  {
   "cell_type": "code",
   "execution_count": 20,
   "metadata": {},
   "outputs": [
    {
     "data": {
      "text/plain": [
       "{'boosting_type': {'boosting_type': 'goss'}}"
      ]
     },
     "execution_count": 20,
     "metadata": {},
     "output_type": "execute_result"
    }
   ],
   "source": [
    "sample(boosting_type)"
   ]
  },
  {
   "cell_type": "code",
   "execution_count": 21,
   "metadata": {},
   "outputs": [
    {
     "data": {
      "text/plain": [
       "{'boosting_type': {'boosting_type': 'goss'}}"
      ]
     },
     "execution_count": 21,
     "metadata": {},
     "output_type": "execute_result"
    }
   ],
   "source": [
    "sample(boosting_type)"
   ]
  },
  {
   "cell_type": "code",
   "execution_count": 22,
   "metadata": {},
   "outputs": [],
   "source": [
    "learning_rate = {'learning_rate': hp.loguniform('learning_rate', np.log(0.01), np.log(0.5))}"
   ]
  },
  {
   "cell_type": "code",
   "execution_count": 23,
   "metadata": {},
   "outputs": [
    {
     "data": {
      "text/plain": [
       "{'learning_rate': 0.02451170847340368}"
      ]
     },
     "execution_count": 23,
     "metadata": {},
     "output_type": "execute_result"
    }
   ],
   "source": [
    "sample(learning_rate)"
   ]
  },
  {
   "cell_type": "code",
   "execution_count": 24,
   "metadata": {},
   "outputs": [
    {
     "data": {
      "text/plain": [
       "{'learning_rate': 0.08261993252407357}"
      ]
     },
     "execution_count": 24,
     "metadata": {},
     "output_type": "execute_result"
    }
   ],
   "source": [
    "sample(learning_rate)"
   ]
  },
  {
   "cell_type": "code",
   "execution_count": 25,
   "metadata": {},
   "outputs": [],
   "source": [
    "x = sample(space)"
   ]
  },
  {
   "cell_type": "markdown",
   "metadata": {},
   "source": [
    "### Example of Sampling from the space\n",
    "\n",
    "After finding the boosting type (which is in a nested dictionary), we assign the boosting type to make it a top level value. We use the dictionary get method to find the 'subsample' if it is in the dictionary (indicating the boosting type is 'gbdt' or 'dart') or set it to 1.0 otherwise (if boosting type is 'goss'). The goss boosting type cannot use bagging. \n",
    "\n",
    "This entire step is necessary because of the conditional logic used for the boosting type and subsample ratio.\n",
    "\n",
    "In addition, we can see the other variables in the dictionary. These will change every time we sample the space."
   ]
  },
  {
   "cell_type": "code",
   "execution_count": 26,
   "metadata": {},
   "outputs": [
    {
     "data": {
      "text/plain": [
       "{'boosting_type': 'goss',\n",
       " 'class_weight': None,\n",
       " 'colsample_bytree': 0.9272910077296959,\n",
       " 'learning_rate': 0.012122763100399305,\n",
       " 'min_child_samples': 95.0,\n",
       " 'num_leaves': 101.0,\n",
       " 'reg_alpha': 0.09013896995581105,\n",
       " 'reg_lambda': 0.25964318128959485,\n",
       " 'subsample_for_bin': 120000.0,\n",
       " 'subsample': 1.0}"
      ]
     },
     "execution_count": 26,
     "metadata": {},
     "output_type": "execute_result"
    }
   ],
   "source": [
    "x = sample(space)\n",
    "subsample = x['boosting_type'].get('subsample', 1.0)\n",
    "x['boosting_type'] = x['boosting_type']['boosting_type']\n",
    "x['subsample'] = subsample\n",
    "x"
   ]
  },
  {
   "cell_type": "code",
   "execution_count": 27,
   "metadata": {},
   "outputs": [
    {
     "data": {
      "text/plain": [
       "{'boosting_type': 'dart',\n",
       " 'class_weight': None,\n",
       " 'colsample_bytree': 0.6640817620883687,\n",
       " 'learning_rate': 0.04227839096249302,\n",
       " 'min_child_samples': 100.0,\n",
       " 'num_leaves': 34.0,\n",
       " 'reg_alpha': 0.4063673530556451,\n",
       " 'reg_lambda': 0.11436338990065453,\n",
       " 'subsample_for_bin': 260000.0,\n",
       " 'subsample': 0.5603141961818652}"
      ]
     },
     "execution_count": 27,
     "metadata": {},
     "output_type": "execute_result"
    }
   ],
   "source": [
    "x = sample(space)\n",
    "subsample = x['boosting_type'].get('subsample', 1.0)\n",
    "x['boosting_type'] = x['boosting_type']['boosting_type']\n",
    "x['subsample'] = subsample\n",
    "x"
   ]
  },
  {
   "cell_type": "markdown",
   "metadata": {},
   "source": [
    "## Optimization"
   ]
  },
  {
   "cell_type": "code",
   "execution_count": 28,
   "metadata": {},
   "outputs": [
    {
     "name": "stdout",
     "output_type": "stream",
     "text": [
      "Training until validation scores don't improve for 200 rounds.\n",
      "[200]\ttrain's auc: 0.994117\tvalid's auc: 0.784363\n",
      "Early stopping, best iteration is:\n",
      "[181]\ttrain's auc: 0.992735\tvalid's auc: 0.786638\n",
      "Training until validation scores don't improve for 200 rounds.\n",
      "[200]\ttrain's auc: 0.993607\tvalid's auc: 0.714235\n",
      "Early stopping, best iteration is:\n",
      "[132]\ttrain's auc: 0.989305\tvalid's auc: 0.720439\n",
      "Training until validation scores don't improve for 200 rounds.\n",
      "[200]\ttrain's auc: 0.99331\tvalid's auc: 0.748526\n",
      "Early stopping, best iteration is:\n",
      "[144]\ttrain's auc: 0.990143\tvalid's auc: 0.752484\n",
      "Training until validation scores don't improve for 200 rounds.\n",
      "[200]\ttrain's auc: 0.993036\tvalid's auc: 0.742581\n",
      "[400]\ttrain's auc: 0.999149\tvalid's auc: 0.749585\n",
      "[600]\ttrain's auc: 0.999947\tvalid's auc: 0.749068\n",
      "[800]\ttrain's auc: 1\tvalid's auc: 0.749103\n",
      "Early stopping, best iteration is:\n",
      "[622]\ttrain's auc: 0.999963\tvalid's auc: 0.752483\n",
      "Training until validation scores don't improve for 200 rounds.\n",
      "[200]\ttrain's auc: 0.993326\tvalid's auc: 0.764003\n",
      "[400]\ttrain's auc: 0.999328\tvalid's auc: 0.762731\n",
      "Early stopping, best iteration is:\n",
      "[222]\ttrain's auc: 0.994652\tvalid's auc: 0.764556\n",
      "Training until validation scores don't improve for 200 rounds.\n",
      "[200]\ttrain's auc: 0.970299\tvalid's auc: 0.729789\n",
      "Early stopping, best iteration is:\n",
      "[17]\ttrain's auc: 0.810098\tvalid's auc: 0.790627\n",
      "Training until validation scores don't improve for 200 rounds.\n",
      "[200]\ttrain's auc: 0.971883\tvalid's auc: 0.695243\n",
      "Early stopping, best iteration is:\n",
      "[162]\ttrain's auc: 0.961878\tvalid's auc: 0.707811\n",
      "Training until validation scores don't improve for 200 rounds.\n",
      "[200]\ttrain's auc: 0.974182\tvalid's auc: 0.722131\n",
      "Early stopping, best iteration is:\n",
      "[21]\ttrain's auc: 0.824415\tvalid's auc: 0.758483\n",
      "Training until validation scores don't improve for 200 rounds.\n",
      "[200]\ttrain's auc: 0.974357\tvalid's auc: 0.715109\n",
      "Early stopping, best iteration is:\n",
      "[31]\ttrain's auc: 0.852092\tvalid's auc: 0.747904\n",
      "Training until validation scores don't improve for 200 rounds.\n",
      "[200]\ttrain's auc: 0.97202\tvalid's auc: 0.731236\n",
      "Early stopping, best iteration is:\n",
      "[16]\ttrain's auc: 0.810267\tvalid's auc: 0.758318\n",
      "Training until validation scores don't improve for 200 rounds.\n",
      "[200]\ttrain's auc: 1\tvalid's auc: 0.761045\n",
      "Early stopping, best iteration is:\n",
      "[53]\ttrain's auc: 0.959532\tvalid's auc: 0.785095\n",
      "Training until validation scores don't improve for 200 rounds.\n",
      "[200]\ttrain's auc: 1\tvalid's auc: 0.68705\n",
      "Early stopping, best iteration is:\n",
      "[88]\ttrain's auc: 0.996237\tvalid's auc: 0.706872\n",
      "Training until validation scores don't improve for 200 rounds.\n",
      "[200]\ttrain's auc: 1\tvalid's auc: 0.74566\n",
      "Early stopping, best iteration is:\n",
      "[61]\ttrain's auc: 0.973202\tvalid's auc: 0.766342\n",
      "Training until validation scores don't improve for 200 rounds.\n",
      "[200]\ttrain's auc: 1\tvalid's auc: 0.733319\n",
      "Early stopping, best iteration is:\n",
      "[13]\ttrain's auc: 0.810156\tvalid's auc: 0.75534\n",
      "Training until validation scores don't improve for 200 rounds.\n",
      "[200]\ttrain's auc: 1\tvalid's auc: 0.736987\n",
      "Early stopping, best iteration is:\n",
      "[160]\ttrain's auc: 1\tvalid's auc: 0.737734\n",
      "Training until validation scores don't improve for 200 rounds.\n",
      "[200]\ttrain's auc: 0.907499\tvalid's auc: 0.785861\n",
      "Early stopping, best iteration is:\n",
      "[89]\ttrain's auc: 0.847977\tvalid's auc: 0.79871\n",
      "Training until validation scores don't improve for 200 rounds.\n",
      "[200]\ttrain's auc: 0.91036\tvalid's auc: 0.700411\n",
      "Early stopping, best iteration is:\n",
      "[46]\ttrain's auc: 0.824018\tvalid's auc: 0.711148\n",
      "Training until validation scores don't improve for 200 rounds.\n",
      "[200]\ttrain's auc: 0.90486\tvalid's auc: 0.740578\n",
      "Early stopping, best iteration is:\n",
      "[110]\ttrain's auc: 0.86157\tvalid's auc: 0.754202\n",
      "Training until validation scores don't improve for 200 rounds.\n",
      "[200]\ttrain's auc: 0.908154\tvalid's auc: 0.743943\n",
      "Early stopping, best iteration is:\n",
      "[82]\ttrain's auc: 0.848657\tvalid's auc: 0.755445\n",
      "Training until validation scores don't improve for 200 rounds.\n",
      "[200]\ttrain's auc: 0.907358\tvalid's auc: 0.757675\n",
      "Early stopping, best iteration is:\n",
      "[85]\ttrain's auc: 0.848635\tvalid's auc: 0.761891\n",
      "Training until validation scores don't improve for 200 rounds.\n",
      "[200]\ttrain's auc: 0.832347\tvalid's auc: 0.797011\n",
      "[400]\ttrain's auc: 0.890599\tvalid's auc: 0.786397\n",
      "Early stopping, best iteration is:\n",
      "[212]\ttrain's auc: 0.836644\tvalid's auc: 0.797925\n",
      "Training until validation scores don't improve for 200 rounds.\n",
      "[200]\ttrain's auc: 0.842574\tvalid's auc: 0.717771\n",
      "[400]\ttrain's auc: 0.896646\tvalid's auc: 0.719835\n",
      "Early stopping, best iteration is:\n",
      "[278]\ttrain's auc: 0.867353\tvalid's auc: 0.72303\n",
      "Training until validation scores don't improve for 200 rounds.\n",
      "[200]\ttrain's auc: 0.834565\tvalid's auc: 0.774526\n",
      "[400]\ttrain's auc: 0.892999\tvalid's auc: 0.775045\n",
      "Early stopping, best iteration is:\n",
      "[314]\ttrain's auc: 0.870354\tvalid's auc: 0.77878\n",
      "Training until validation scores don't improve for 200 rounds.\n",
      "[200]\ttrain's auc: 0.838472\tvalid's auc: 0.759547\n",
      "[400]\ttrain's auc: 0.893696\tvalid's auc: 0.758688\n",
      "Early stopping, best iteration is:\n",
      "[275]\ttrain's auc: 0.862414\tvalid's auc: 0.760655\n",
      "Training until validation scores don't improve for 200 rounds.\n",
      "[200]\ttrain's auc: 0.839185\tvalid's auc: 0.744183\n",
      "[400]\ttrain's auc: 0.892606\tvalid's auc: 0.754167\n",
      "[600]\ttrain's auc: 0.928649\tvalid's auc: 0.753573\n",
      "Early stopping, best iteration is:\n",
      "[509]\ttrain's auc: 0.913259\tvalid's auc: 0.755408\n"
     ]
    }
   ],
   "source": [
    "trials = Trials()\n",
    "\n",
    "best = fmin(fn = objective, space = space, algo = tpe.suggest, \n",
    "            max_evals = 5, trials = trials, verbose = 1)"
   ]
  },
  {
   "cell_type": "code",
   "execution_count": 29,
   "metadata": {},
   "outputs": [
    {
     "data": {
      "text/plain": [
       "[{'loss': -0.7553202304736557,\n",
       "  'train': -0.9933596538632701,\n",
       "  'estimators': 260.2,\n",
       "  'status': 'ok',\n",
       "  'params': {'boosting_type': 'dart',\n",
       "   'class_weight': 'balanced',\n",
       "   'colsample_bytree': 0.7325194811298903,\n",
       "   'learning_rate': 0.0322394020403845,\n",
       "   'min_child_samples': 35,\n",
       "   'num_leaves': 133,\n",
       "   'reg_alpha': 0.6040341766472112,\n",
       "   'reg_lambda': 0.9749800011842601,\n",
       "   'subsample_for_bin': 60000,\n",
       "   'subsample': 0.7393108733309419}},\n",
       " {'loss': -0.752628643339592,\n",
       "  'train': -0.851750090849617,\n",
       "  'estimators': 49.4,\n",
       "  'status': 'ok',\n",
       "  'params': {'boosting_type': 'gbdt',\n",
       "   'class_weight': 'balanced',\n",
       "   'colsample_bytree': 0.9792154501227568,\n",
       "   'learning_rate': 0.1989637872681772,\n",
       "   'min_child_samples': 400,\n",
       "   'num_leaves': 36,\n",
       "   'reg_alpha': 0.9504607597248819,\n",
       "   'reg_lambda': 0.015694998918869718,\n",
       "   'subsample_for_bin': 40000,\n",
       "   'subsample': 0.5927705664585545}},\n",
       " {'loss': -0.7502765057979331,\n",
       "  'train': -0.9478254132302046,\n",
       "  'estimators': 75.0,\n",
       "  'status': 'ok',\n",
       "  'params': {'boosting_type': 'gbdt',\n",
       "   'class_weight': None,\n",
       "   'colsample_bytree': 0.8076364340381664,\n",
       "   'learning_rate': 0.06881193077504752,\n",
       "   'min_child_samples': 35,\n",
       "   'num_leaves': 94,\n",
       "   'reg_alpha': 0.713998875650754,\n",
       "   'reg_lambda': 0.5574673465100994,\n",
       "   'subsample_for_bin': 100000,\n",
       "   'subsample': 0.6879483869461355}},\n",
       " {'loss': -0.756279342144564,\n",
       "  'train': -0.8461713716946424,\n",
       "  'estimators': 82.4,\n",
       "  'status': 'ok',\n",
       "  'params': {'boosting_type': 'gbdt',\n",
       "   'class_weight': 'balanced',\n",
       "   'colsample_bytree': 0.7619713496234854,\n",
       "   'learning_rate': 0.06898450281007874,\n",
       "   'min_child_samples': 370,\n",
       "   'num_leaves': 134,\n",
       "   'reg_alpha': 0.06031708326095664,\n",
       "   'reg_lambda': 0.6296580469258597,\n",
       "   'subsample_for_bin': 300000,\n",
       "   'subsample': 0.5360875019436323}},\n",
       " {'loss': -0.7631596069346753,\n",
       "  'train': -0.8700047665028695,\n",
       "  'estimators': 317.6,\n",
       "  'status': 'ok',\n",
       "  'params': {'boosting_type': 'goss',\n",
       "   'class_weight': None,\n",
       "   'colsample_bytree': 0.9259224457587562,\n",
       "   'learning_rate': 0.022152509734637536,\n",
       "   'min_child_samples': 150,\n",
       "   'num_leaves': 61,\n",
       "   'reg_alpha': 0.91623559266011,\n",
       "   'reg_lambda': 0.12139739021315099,\n",
       "   'subsample_for_bin': 160000,\n",
       "   'subsample': 1.0}}]"
      ]
     },
     "execution_count": 29,
     "metadata": {},
     "output_type": "execute_result"
    }
   ],
   "source": [
    "trials.results"
   ]
  },
  {
   "cell_type": "code",
   "execution_count": 32,
   "metadata": {},
   "outputs": [],
   "source": [
    "trials_results = sorted(trials.results, key = lambda x: x['loss'])"
   ]
  },
  {
   "cell_type": "code",
   "execution_count": 33,
   "metadata": {},
   "outputs": [
    {
     "data": {
      "text/plain": [
       "[{'loss': -0.7631596069346753,\n",
       "  'train': -0.8700047665028695,\n",
       "  'estimators': 317.6,\n",
       "  'status': 'ok',\n",
       "  'params': {'boosting_type': 'goss',\n",
       "   'class_weight': None,\n",
       "   'colsample_bytree': 0.9259224457587562,\n",
       "   'learning_rate': 0.022152509734637536,\n",
       "   'min_child_samples': 150,\n",
       "   'num_leaves': 61,\n",
       "   'reg_alpha': 0.91623559266011,\n",
       "   'reg_lambda': 0.12139739021315099,\n",
       "   'subsample_for_bin': 160000,\n",
       "   'subsample': 1.0}},\n",
       " {'loss': -0.756279342144564,\n",
       "  'train': -0.8461713716946424,\n",
       "  'estimators': 82.4,\n",
       "  'status': 'ok',\n",
       "  'params': {'boosting_type': 'gbdt',\n",
       "   'class_weight': 'balanced',\n",
       "   'colsample_bytree': 0.7619713496234854,\n",
       "   'learning_rate': 0.06898450281007874,\n",
       "   'min_child_samples': 370,\n",
       "   'num_leaves': 134,\n",
       "   'reg_alpha': 0.06031708326095664,\n",
       "   'reg_lambda': 0.6296580469258597,\n",
       "   'subsample_for_bin': 300000,\n",
       "   'subsample': 0.5360875019436323}}]"
      ]
     },
     "execution_count": 33,
     "metadata": {},
     "output_type": "execute_result"
    }
   ],
   "source": [
    "trials_results[:2]"
   ]
  },
  {
   "cell_type": "code",
   "execution_count": null,
   "metadata": {},
   "outputs": [],
   "source": []
  }
 ],
 "metadata": {
  "kernelspec": {
   "display_name": "Python 3",
   "language": "python",
   "name": "python3"
  },
  "language_info": {
   "codemirror_mode": {
    "name": "ipython",
    "version": 3
   },
   "file_extension": ".py",
   "mimetype": "text/x-python",
   "name": "python",
   "nbconvert_exporter": "python",
   "pygments_lexer": "ipython3",
   "version": "3.6.5"
  }
 },
 "nbformat": 4,
 "nbformat_minor": 2
}
